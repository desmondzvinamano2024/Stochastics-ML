{
  "nbformat": 4,
  "nbformat_minor": 0,
  "metadata": {
    "colab": {
      "provenance": []
    },
    "kernelspec": {
      "name": "python3",
      "display_name": "Python 3"
    },
    "language_info": {
      "name": "python"
    }
  },
  "cells": [
    {
      "cell_type": "markdown",
      "source": [
        "# **Step 1**"
      ],
      "metadata": {
        "id": "mdDiv9I2X7yd"
      }
    },
    {
      "cell_type": "markdown",
      "source": [
        "### **(1) Using Heston and  Monte-Carlo Methods for option pricing**\n",
        "\n",
        "\n",
        "In the Heston model, the diffusion of the stock price $ S_t $  is given by the following stochastic differential equations:\n",
        "\n",
        "$$\n",
        "\\begin{equation*}\n",
        "    S_t = S_{t-1} e^{\\left( r - \\frac{\\nu_t}{2} \\right) dt + \\sigma \\sqrt{\\nu_t} dZ_1}\n",
        "\\end{equation*}\n",
        "$$\n",
        "and\n",
        "$$\n",
        "\\begin{equation*}\n",
        "    \\nu_t = \\nu_{t-1} + \\kappa \\left( \\theta - \\nu_{t-1} \\right) dt + \\sigma \\sqrt{\\nu_{t-1}}dZ_2\n",
        "\\end{equation*}\n",
        "$$\n",
        "\n",
        "Where:\n",
        "\n",
        "- $ S_t $ is the stock or asset price at time $ t $.\n",
        "- $ \\nu_t $ the asset return variance at time $ t $.\n",
        "- $ r $ is the risk-free interest rate.\n",
        "- $ \\kappa $ is the rate at which $ \\nu_t $ reverts to its long-term mean $ \\theta $.\n",
        "- $ \\sigma $ is a volatility parameter.\n",
        "- $ dZ_1 $ and $ dZ_2 $ are regarded as two Brownian motion processes.\n",
        "\n",
        "Monte Carlo methods multiple paths for the asset price and its variance for simulation. The concluding option price is the average of these simulated paths.\n",
        "\n",
        "**Delta and Gamma**:\n",
        "\n",
        "1. **Delta**: It is the rate of change of the option price with respect to the underlying asset's price. $$ \\Delta \\approx \\frac{C(S_0 + \\Delta S) - C(S_0)}{\\Delta S} $$ where $ C $ is the option price and $ \\Delta S $ is a small change in the stock price.\n",
        "\n",
        "2. **Gamma**: It i the rate of change of Delta with respect to the underlying asset's price.$$ \\Gamma \\approx \\frac{C(S_0 + \\Delta S) - 2C(S_0) + C(S_0 - \\Delta S)}{\\Delta S^2} $$\n",
        "\n",
        "The Heston model, above is a good candidate for modelling real world option prices"
      ],
      "metadata": {
        "id": "0x49ZOZE1q0k"
      }
    },
    {
      "cell_type": "markdown",
      "source": [
        "**Question 5**\n",
        "\n",
        "Pricing ATM European call and put with Heston Model, using a correlation\n",
        "value of -0.30."
      ],
      "metadata": {
        "id": "zywdwCB18NzY"
      }
    },
    {
      "cell_type": "code",
      "source": [
        "import matplotlib.pyplot as plt\n",
        "import numpy as np\n",
        "import scipy.stats as ss\n",
        "\n",
        "def SDE_vol(v0, kappa, theta, sigma, T, M, Ite, rand, row, cho_matrix):\n",
        "    dt = T / M  # T = maturity, M = number of time steps\n",
        "    v = np.zeros((M + 1, Ite), dtype=float)\n",
        "    v[0] = v0\n",
        "    sdt = np.sqrt(dt)  # Sqrt of dt\n",
        "    for t in range(1, M + 1):\n",
        "        ran = np.dot(cho_matrix, rand[:, t])\n",
        "        v[t] = np.maximum(\n",
        "            0,\n",
        "            v[t - 1]\n",
        "            + kappa * (theta - v[t - 1]) * dt\n",
        "            + np.sqrt(v[t - 1]) * sigma * ran[row] * sdt,\n",
        "        )\n",
        "    return v\n",
        "\n",
        "def Heston_paths(S0, r, v, row, cho_matrix):\n",
        "    S = np.zeros((M + 1, Ite), dtype=float)\n",
        "    S[0] = S0\n",
        "    sdt = np.sqrt(dt)\n",
        "    for t in range(1, M + 1, 1):\n",
        "        ran = np.dot(cho_matrix, rand[:, t])\n",
        "        S[t] = S[t - 1] * np.exp((r - 0.5 * v[t]) * dt + np.sqrt(v[t]) * ran[row] * sdt)\n",
        "\n",
        "    return S\n",
        "def random_number_gen(M, Ite):\n",
        "    rand = np.random.standard_normal((2, M + 1, Ite))\n",
        "    return rand\n",
        "\n",
        "v0 = 0.032\n",
        "kappa_v = 1.85\n",
        "sigma_v = 0.35\n",
        "theta_v = 0.045\n",
        "rho = -0.3\n",
        "\n",
        "S0 = 80  # Current underlying asset price\n",
        "r = 0.055  # Risk-free rate\n",
        "M0 = 50  # Number of time steps in a year\n",
        "T = 3/12  # Number of years\n",
        "M = int(M0 * T)  # Total time steps\n",
        "Ite = 1000000  # Number of simulations\n",
        "dt = T / M  # Length of time step\n",
        "\n",
        "\n",
        "# Generating random numbers from standard normal\n",
        "rand = random_number_gen(M, Ite)\n",
        "\n",
        "\n",
        "# Covariance Matrix\n",
        "covariance_matrix = np.zeros((2, 2), dtype=float)\n",
        "covariance_matrix[0] = [1.0, rho]\n",
        "covariance_matrix[1] = [rho, 1.0]\n",
        "cho_matrix = np.linalg.cholesky(covariance_matrix)\n",
        "# Volatility process paths\n",
        "V = SDE_vol(v0, kappa_v, theta_v, sigma_v, T, M, Ite, rand, 1, cho_matrix)\n",
        "\n",
        "# Underlying price process paths\n",
        "S = Heston_paths(S0, r, V, 0, cho_matrix)\n",
        "\n",
        "def heston_call_mc(S, K, r, T, t):\n",
        "    payoff = np.maximum(0, S[-1, :] - K)\n",
        "\n",
        "    average = np.mean(payoff)\n",
        "\n",
        "    return np.exp(-r * (T - t)) * average\n",
        "\n",
        "def heston_put_mc(S, K, r, T, t):\n",
        "    payoff = np.maximum(0, K - S[-1, :])  # Calculate the payoff for a put option\n",
        "\n",
        "    average = np.mean(payoff)\n",
        "\n",
        "    return np.exp(-r * (T - t)) * average\n",
        "\n",
        "print(\"European Call Price under Heston using a correlation value of -0.30: \",np.round( heston_call_mc(S, 80, 0.055, 3/12, 0),2))\n",
        "print(\"European Put Price under Heston using a correlation value of -0.30: \", np.round(heston_put_mc(S, 80, 0.055, 3/12, 0),2))\n",
        "\n",
        "\n",
        "epsilon = 0.01\n",
        "S1 = S0 + epsilon\n",
        "S2 = S0 - epsilon\n",
        "\n",
        "# Calculate deltas for perturbed asset prices using the Heston model\n",
        "epsilon = 0.01\n",
        "S1 = S0 + epsilon\n",
        "S2 = S0 - epsilon\n",
        "S3 = S0 + epsilon + epsilon + epsilon\n",
        "S_perturbed_1 = Heston_paths(S1, r, V, 0, cho_matrix)\n",
        "S_perturbed_2 = Heston_paths(S2, r, V, 0, cho_matrix)\n",
        "S_perturbed_3 = Heston_paths(S3, r, V, 0, cho_matrix)\n",
        "\n",
        "delta_call1 = (heston_call_mc(S_perturbed_1, 80, r, T, 0) - heston_call_mc(S_perturbed_2, 80, r, T, 0)) / (2 * epsilon)\n",
        "delta_put1 = (heston_put_mc(S_perturbed_1, 80, r, T, 0) - heston_put_mc(S_perturbed_2, 80, r, T, 0)) / (2 * epsilon)\n",
        "\n",
        "S_f = 81\n",
        "Sf1 = S_f + epsilon\n",
        "Sf2 = S_f - epsilon\n",
        "\n",
        "delta_call1x = (heston_call_mc(S_perturbed_3, Sf1, r, T, 0) - heston_call_mc(S_perturbed_1, Sf2, r, T, 0)) / (2 * epsilon)\n",
        "delta_put1x = (heston_put_mc(S_perturbed_3, Sf1, r, T, 0) - heston_put_mc(S_perturbed_1, Sf2, r, T, 0)) / (2 * epsilon)\n",
        "\n",
        "\n",
        "# Calculate gamma using the Heston model\n",
        "gamma_call1 = ((delta_call1 - delta_call1x) / (S_f - S0)).round(3)\n",
        "gamma_put1 = ((delta_put1x - delta_put1) / (S_f - S0)).round(3)\n",
        "\n"
      ],
      "metadata": {
        "colab": {
          "base_uri": "https://localhost:8080/"
        },
        "id": "uBV9yirFVe1K",
        "outputId": "26d69c22-f220-4ab0-aedf-f5fa0478cbd6"
      },
      "execution_count": null,
      "outputs": [
        {
          "output_type": "stream",
          "name": "stdout",
          "text": [
            "European Call Price under Heston using a correlation value of -0.30:  2.85\n",
            "European Put Price under Heston using a correlation value of -0.30:  2.84\n"
          ]
        }
      ]
    },
    {
      "cell_type": "markdown",
      "source": [
        "We have used Monte Carlo simulation to price options under the Heston model. It includes functions for:\n",
        "SDE_vol: Generates volatility paths via the Heston model's stochastic differential equation using Cholesky decomposition for correlated random numbers.\n",
        "Heston_paths: Generates asset price paths by simulating the Heston model with given parameters.\n",
        "Random_number_gen: Generates standard normal random numbers for simulations.\n",
        "The main simulation:\n",
        "Sets up Heston model parameters.\n",
        "Simulates volatility and asset price paths.\n",
        "Calculates European call and put option prices using Monte Carlo simulation.\n"
      ],
      "metadata": {
        "id": "S8ayF5EYUhuB"
      }
    },
    {
      "cell_type": "markdown",
      "source": [
        "Question 6\n",
        "\n",
        "Pricing ATM European call and put with Heston Model, using a correlation\n",
        "value of -0.70."
      ],
      "metadata": {
        "id": "SUA8B8TNOLfX"
      }
    },
    {
      "cell_type": "code",
      "source": [
        "import matplotlib.pyplot as plt\n",
        "import numpy as np\n",
        "import scipy.stats as ss\n",
        "\n",
        "def SDE_vol(v0, kappa, theta, sigma, T, M, Ite, rand, row, cho_matrix):\n",
        "    dt = T / M  # T = maturity, M = number of time steps\n",
        "    v = np.zeros((M + 1, Ite), dtype=float)\n",
        "    v[0] = v0\n",
        "    sdt = np.sqrt(dt)  # Sqrt of dt\n",
        "    for t in range(1, M + 1):\n",
        "        ran = np.dot(cho_matrix, rand[:, t])\n",
        "        v[t] = np.maximum(\n",
        "            0,\n",
        "            v[t - 1]\n",
        "            + kappa * (theta - v[t - 1]) * dt\n",
        "            + np.sqrt(v[t - 1]) * sigma * ran[row] * sdt,\n",
        "        )\n",
        "    return v\n",
        "\n",
        "def Heston_paths(S0, r, v, row, cho_matrix):\n",
        "    S = np.zeros((M + 1, Ite), dtype=float)\n",
        "    S[0] = S0\n",
        "    sdt = np.sqrt(dt)\n",
        "    for t in range(1, M + 1, 1):\n",
        "        ran = np.dot(cho_matrix, rand[:, t])\n",
        "        S[t] = S[t - 1] * np.exp((r - 0.5 * v[t]) * dt + np.sqrt(v[t]) * ran[row] * sdt)\n",
        "\n",
        "    return S\n",
        "def random_number_gen(M, Ite):\n",
        "    rand = np.random.standard_normal((2, M + 1, Ite))\n",
        "    return rand\n",
        "\n",
        "v0 = 0.032\n",
        "kappa_v = 1.85\n",
        "sigma_v = 0.35\n",
        "theta_v = 0.045\n",
        "rho = -0.7\n",
        "\n",
        "S0 = 80  # Current underlying asset price\n",
        "r = 0.055  # Risk-free rate\n",
        "M0 = 50  # Number of time steps in a year\n",
        "T = 3/12  # Number of years\n",
        "M = int(M0 * T)  # Total time steps\n",
        "Ite = 1000000  # Number of simulations\n",
        "dt = T / M  # Length of time step\n",
        "\n",
        "\n",
        "# Generating random numbers from standard normal\n",
        "rand = random_number_gen(M, Ite)\n",
        "\n",
        "\n",
        "# Covariance Matrix\n",
        "covariance_matrix = np.zeros((2, 2), dtype=float)\n",
        "covariance_matrix[0] = [1.0, rho]\n",
        "covariance_matrix[1] = [rho, 1.0]\n",
        "cho_matrix = np.linalg.cholesky(covariance_matrix)\n",
        "# Volatility process paths\n",
        "V = SDE_vol(v0, kappa_v, theta_v, sigma_v, T, M, Ite, rand, 1, cho_matrix)\n",
        "\n",
        "# Underlying price process paths\n",
        "S = Heston_paths(S0, r, V, 0, cho_matrix)\n",
        "\n",
        "def heston_call_mc(S, K, r, T, t):\n",
        "    payoff = np.maximum(0, S[-1, :] - K)\n",
        "\n",
        "    average = np.mean(payoff)\n",
        "\n",
        "    return np.exp(-r * (T - t)) * average\n",
        "\n",
        "def heston_put_mc(S, K, r, T, t):\n",
        "    payoff = np.maximum(0, K - S[-1, :])  # Calculate the payoff for a put option\n",
        "\n",
        "    average = np.mean(payoff)\n",
        "\n",
        "    return np.exp(-r * (T - t)) * average\n",
        "\n",
        "print(\"European Call Price under Heston using a correlation value of -0.70: \",np.round( heston_call_mc(S, 80, 0.055, 3/12, 0),2))\n",
        "print(\"European Put Price under Heston using a correlation value of -0.70: \", np.round(heston_put_mc(S, 80, 0.055, 3/12, 0),2))\n",
        "\n",
        "# Calculate deltas for perturbed asset prices using the Heston model\n",
        "epsilon = 0.01\n",
        "S1 = S0 + epsilon\n",
        "S2 = S0 - epsilon\n",
        "S3 = S0 + epsilon*3\n",
        "S_perturbed_1 = Heston_paths(S1, r, V, 0, cho_matrix)\n",
        "S_perturbed_2 = Heston_paths(S2, r, V, 0, cho_matrix)\n",
        "S_perturbed_3 = Heston_paths(S3, r, V, 0, cho_matrix)\n",
        "\n",
        "delta_call2 = (heston_call_mc(S_perturbed_1, 80, r, T, 0) - heston_call_mc(S_perturbed_2, 80, r, T, 0)) / (2 * epsilon)\n",
        "delta_put2 = (heston_put_mc(S_perturbed_1, 80, r, T, 0) - heston_put_mc(S_perturbed_2, 80, r, T, 0)) / (2 * epsilon)\n",
        "\n",
        "S_f = 81\n",
        "Sf1 = S_f + epsilon\n",
        "Sf2 = S_f - epsilon\n",
        "\n",
        "delta_call2x = (heston_call_mc(S_perturbed_3, Sf1, r, T, 0) - heston_call_mc(S_perturbed_1, Sf2, r, T, 0)) / (2 * epsilon)\n",
        "delta_put2x = (heston_put_mc(S_perturbed_3, Sf1, r, T, 0) - heston_put_mc(S_perturbed_1, Sf2, r, T, 0)) / (2 * epsilon)\n",
        "\n",
        "\n",
        "\n",
        "# Calculate gamma using the Heston model\n",
        "gamma_call2 = ((delta_call2 - delta_call2x) / (S_f - S0)).round(3)\n",
        "gamma_put2 = ((delta_put2x - delta_put2) / (S_f - S0)).round(3)\n"
      ],
      "metadata": {
        "colab": {
          "base_uri": "https://localhost:8080/"
        },
        "id": "oo8eqRB1FOIL",
        "outputId": "4c0c87b7-cfc3-439a-d85a-81584a4c5794"
      },
      "execution_count": null,
      "outputs": [
        {
          "output_type": "stream",
          "name": "stdout",
          "text": [
            "European Call Price under Heston using a correlation value of -0.70:  2.08\n",
            "European Put Price under Heston using a correlation value of -0.70:  3.46\n"
          ]
        }
      ]
    },
    {
      "cell_type": "markdown",
      "source": [
        "We have employed the Heston model with Monte Carlo simulations to price European call and put options for a given set of parameters. It first generates paths for both the volatility and underlying asset price processes. The calculated European call and put option prices under the Heston model showcase the valuation at a correlation of -0.7. Furthermore, the code approximates delta and gamma values by perturbing the asset price and observing the resulting changes in option prices, illustrating the sensitivity and curvature of the option prices concerning the underlying asset's movement."
      ],
      "metadata": {
        "id": "O0eF43moVPFS"
      }
    },
    {
      "cell_type": "markdown",
      "source": [
        "Question 7\n",
        "\n",
        "\n"
      ],
      "metadata": {
        "id": "dzp4GtgEiuhC"
      }
    },
    {
      "cell_type": "markdown",
      "source": [
        "**7.a(Delta and gamma for Q5)**"
      ],
      "metadata": {
        "id": "wJfyYT6cV6LL"
      }
    },
    {
      "cell_type": "code",
      "source": [
        "\n",
        "\n",
        "print(\"European Call Delta under Heston using a correlation value of -0.30: \",delta_call1.round(2))\n",
        "print(\"European Put Delta under Heston using a correlation value of -0.30: \",delta_put1.round(2) )\n",
        "\n",
        "\n",
        "print(\"European Call Gamma under Heston using a correlation value of -0.30: \",gamma_call1.round(3))\n",
        "print(\"European Put Gamma under Heston using a correlation value of -0.30: \",gamma_put1.round(3) )\n"
      ],
      "metadata": {
        "colab": {
          "base_uri": "https://localhost:8080/"
        },
        "id": "8mGA9_aZiqti",
        "outputId": "3348314d-fb54-4804-b9f4-0feb25212c1b"
      },
      "execution_count": null,
      "outputs": [
        {
          "output_type": "stream",
          "name": "stdout",
          "text": [
            "European Call Delta under Heston using a correlation value of -0.30:  0.54\n",
            "European Put Delta under Heston using a correlation value of -0.30:  -0.45\n",
            "European Call Gamma under Heston using a correlation value of -0.30:  0.503\n",
            "European Put Gamma under Heston using a correlation value of -0.30:  0.483\n"
          ]
        }
      ]
    },
    {
      "cell_type": "markdown",
      "source": [
        "**7.b(Delta and gamma for Q6)**"
      ],
      "metadata": {
        "id": "_odxkydisCmq"
      }
    },
    {
      "cell_type": "code",
      "source": [
        "\n",
        "\n",
        "print(\"European Call Delta under Heston using a correlation value of -0.70: \",delta_call2.round(2))\n",
        "print(\"European Put Delta under Heston using a correlation value of -0.70: \",delta_put2.round(2) )\n",
        "\n",
        "\n",
        "print(\"European Call Gamma under Heston using a correlation value of -0.70: \",gamma_call2.round(3))\n",
        "print(\"European Put Gamma under Heston using a correlation value of -0.70: \",gamma_put2.round(3) )\n"
      ],
      "metadata": {
        "colab": {
          "base_uri": "https://localhost:8080/"
        },
        "id": "sWyyNUZssCKs",
        "outputId": "140eca98-1027-495e-a228-bb18b4f193f3"
      },
      "execution_count": null,
      "outputs": [
        {
          "output_type": "stream",
          "name": "stdout",
          "text": [
            "European Call Delta under Heston using a correlation value of -0.70:  0.48\n",
            "European Put Delta under Heston using a correlation value of -0.70:  -0.49\n",
            "European Call Gamma under Heston using a correlation value of -0.70:  0.457\n",
            "European Put Gamma under Heston using a correlation value of -0.70:  0.53\n"
          ]
        }
      ]
    },
    {
      "cell_type": "markdown",
      "source": [
        "Explanation of Delta and Gamma:\n",
        "Delta measures the sensitivity of an option's price to changes in the underlying asset's price. A positive delta indicates a call option, while a negative delta indicates a put option. Gamma, on the other hand, quantifies the rate of change of delta concerning changes in the underlying asset's price.\n",
        "For both correlation scenarios (-0.30 and -0.70):\n",
        "Call options have positive deltas, indicating a positive relationship with the underlying asset.\n",
        "Put options have negative deltas, reflecting an inverse relationship with the underlying asset.\n",
        "Gamma measures the change in delta concerning changes in the underlying asset's price. Both call and put options have positive gamma values. Gamma is highest near the at-the-money region and diminishes as options move deeper in or out of the money.\n"
      ],
      "metadata": {
        "id": "MZZYND0_WHor"
      }
    },
    {
      "cell_type": "markdown",
      "source": [
        "Question 8"
      ],
      "metadata": {
        "id": "JLFoLbDpYM9F"
      }
    },
    {
      "cell_type": "code",
      "execution_count": null,
      "metadata": {
        "id": "EXXE_3VBZmwY"
      },
      "outputs": [],
      "source": [
        "import matplotlib.pyplot as plt\n",
        "import numpy as np\n",
        "import scipy.stats as ss"
      ]
    },
    {
      "cell_type": "code",
      "source": [
        "np.random.seed(42)"
      ],
      "metadata": {
        "id": "CHLl0o_NJjTg"
      },
      "execution_count": null,
      "outputs": []
    },
    {
      "cell_type": "code",
      "source": [
        "S0 = 80\n",
        "r = 0.055\n",
        "sigma = 0.35\n",
        "T = 3/12\n",
        "Ite = 10000000  # Number of simulations (paths)\n",
        "M = 1  # Number of steps\n",
        "dt = T / M  # Time-step\n",
        "\n",
        "lamb = 0.75  # Lambda of the model\n",
        "mu = -0.6  # Mu\n",
        "delta = 0.22  # Delta"
      ],
      "metadata": {
        "id": "kM6c4xPlX6k9"
      },
      "execution_count": null,
      "outputs": []
    },
    {
      "cell_type": "code",
      "source": [
        "SM = np.zeros((M + 1, Ite))\n",
        "SM[0] = S0\n",
        "\n",
        "# rj\n",
        "rj = lamb * (np.exp(mu + 0.5 * delta**2) - 1)\n",
        "\n",
        "# Random numbers\n",
        "z1 = np.random.standard_normal((M + 1, Ite))\n",
        "z2 = np.random.standard_normal((M + 1, Ite))\n",
        "y = np.random.poisson(lamb * dt, (M + 1, Ite))"
      ],
      "metadata": {
        "id": "akmDw4JBZwPa"
      },
      "execution_count": null,
      "outputs": []
    },
    {
      "cell_type": "code",
      "source": [
        "for t in range(1, M + 1):\n",
        "    SM[t] = SM[t - 1] * (\n",
        "        np.exp((r - rj - 0.5 * sigma**2) * dt + sigma * np.sqrt(dt) * z1[t])\n",
        "        + (np.exp(mu + delta * z2[t]) - 1) * y[t]\n",
        "    )\n",
        "    SM[t] = np.maximum(\n",
        "        SM[t], 0.00001\n",
        "    )  # To ensure that the price never goes below zero!"
      ],
      "metadata": {
        "id": "X7t_ctDfZx9E"
      },
      "execution_count": null,
      "outputs": []
    },
    {
      "cell_type": "code",
      "source": [
        "def merton_mc(S, K, r, T, t, type=\"C\"):\n",
        "    if (type==\"C\"):\n",
        "      payoff = np.maximum(0, S[-1, :] - K)\n",
        "    else:\n",
        "      payoff = np.maximum(K - S[-1, :], 0)\n",
        "\n",
        "    average = np.mean(payoff)\n",
        "\n",
        "    return np.exp(-r * (T - t)) * average"
      ],
      "metadata": {
        "id": "aA13R8LJZz_x"
      },
      "execution_count": null,
      "outputs": []
    },
    {
      "cell_type": "code",
      "source": [
        "print(\"European Call Price under Merton: \", merton_mc(SM, 80, r, T, 0, type=\"C\").round(2))"
      ],
      "metadata": {
        "colab": {
          "base_uri": "https://localhost:8080/"
        },
        "id": "W31Oa9VIZ-Ag",
        "outputId": "1238be68-766c-44f5-c5bb-530b238ff4ff"
      },
      "execution_count": null,
      "outputs": [
        {
          "output_type": "stream",
          "name": "stdout",
          "text": [
            "European Call Price under Merton:  8.92\n"
          ]
        }
      ]
    },
    {
      "cell_type": "code",
      "source": [
        "print(\"European Put Price under Merton: \", merton_mc(SM, 80, r, T, 0, type=\"P\").round(2))"
      ],
      "metadata": {
        "colab": {
          "base_uri": "https://localhost:8080/"
        },
        "id": "UmcG2b_hwB0X",
        "outputId": "d002ec6c-b00f-4aee-e81e-e1522f61ca87"
      },
      "execution_count": null,
      "outputs": [
        {
          "output_type": "stream",
          "name": "stdout",
          "text": [
            "European Put Price under Merton:  7.38\n"
          ]
        }
      ]
    },
    {
      "cell_type": "markdown",
      "source": [
        "I use a 10,000,000 (10 million) simulation on pricing option under Merton model since the pricing process does not involve any for loop, therefore the calculation process would be faster and could iterate more.\n",
        "\n",
        "Process: First create a matrix of price SM, with (M+1) rows time steps, and (Ite) columns for each path. Then calculate r_j as the formula, and generate random z1, z2, and y. After that, create a stock price path loop over each time step to simulate the stock price and to make sure the stock price does not go below zero. Finally, the payoff is calculated based on the final stock prices and option types in the simulation paths. The function returns the present value of the average payoff as the option price.\n"
      ],
      "metadata": {
        "id": "Dd6UuZSHYUYT"
      }
    },
    {
      "cell_type": "markdown",
      "source": [
        "Question 9"
      ],
      "metadata": {
        "id": "K6okg2Qmwei5"
      }
    },
    {
      "cell_type": "code",
      "source": [
        "lamb = 0.25  # Lambda of the model\n",
        "\n",
        "SM = np.zeros((M + 1, Ite))\n",
        "SM[0] = S0\n",
        "\n",
        "# rj\n",
        "rj = lamb * (np.exp(mu + 0.5 * delta**2) - 1)\n",
        "\n",
        "# Random numbers\n",
        "z1 = np.random.standard_normal((M + 1, Ite))\n",
        "z2 = np.random.standard_normal((M + 1, Ite))\n",
        "y = np.random.poisson(lamb * dt, (M + 1, Ite))\n",
        "\n",
        "for t in range(1, M + 1):\n",
        "    SM[t] = SM[t - 1] * (\n",
        "        np.exp((r - rj - 0.5 * sigma**2) * dt + sigma * np.sqrt(dt) * z1[t])\n",
        "        + (np.exp(mu + delta * z2[t]) - 1) * y[t]\n",
        "    )\n",
        "    SM[t] = np.maximum(\n",
        "        SM[t], 0.00001\n",
        "    )  # To ensure that the price never goes below zero!"
      ],
      "metadata": {
        "id": "cf0BZq4jwgh4"
      },
      "execution_count": null,
      "outputs": []
    },
    {
      "cell_type": "code",
      "source": [
        "print(\"European Call Price under Merton with lambda 0.25: \", merton_mc(SM, 80, r, T, 0, type=\"C\").round(2))"
      ],
      "metadata": {
        "colab": {
          "base_uri": "https://localhost:8080/"
        },
        "id": "npKUhDJywteL",
        "outputId": "28a11106-6b4d-4d58-a86e-8ec5c3066599"
      },
      "execution_count": null,
      "outputs": [
        {
          "output_type": "stream",
          "name": "stdout",
          "text": [
            "European Call Price under Merton with lambda 0.25:  7.01\n"
          ]
        }
      ]
    },
    {
      "cell_type": "code",
      "source": [
        "print(\"European Put Price under Merton with lambda 0.25: \", merton_mc(SM, 80, r, T, 0, type=\"P\").round(2))"
      ],
      "metadata": {
        "colab": {
          "base_uri": "https://localhost:8080/"
        },
        "id": "xBRnLirQwv7D",
        "outputId": "09ba8a8a-4d60-42a4-dd7c-fe9584106c19"
      },
      "execution_count": null,
      "outputs": [
        {
          "output_type": "stream",
          "name": "stdout",
          "text": [
            "European Put Price under Merton with lambda 0.25:  5.84\n"
          ]
        }
      ]
    },
    {
      "cell_type": "markdown",
      "source": [
        "When decreased 𝜆 (lambda), the option price also decreases. 𝜆 represents the Intensity (frequency) of the jump (shock) in stock prices. Higher 𝜆 means a higher chance that the stock price experience a negative jump (return). Therefore, when decreasing 𝜆, the stock experiences less jump, making it less volatile and not moving far, making the chance of being at or in the money at the expiration lower, hence the price is lower"
      ],
      "metadata": {
        "id": "x8uvyB4lYZgQ"
      }
    },
    {
      "cell_type": "markdown",
      "source": [
        "Question 10"
      ],
      "metadata": {
        "id": "q9QU0k8Jw6SE"
      }
    },
    {
      "cell_type": "code",
      "source": [
        "epsilon = 0.01"
      ],
      "metadata": {
        "id": "pnEvlzUaKIo7"
      },
      "execution_count": null,
      "outputs": []
    },
    {
      "cell_type": "code",
      "source": [
        "S1 = S0 + epsilon\n",
        "S2 = S0 - epsilon"
      ],
      "metadata": {
        "id": "aA-pkcxzKMcK"
      },
      "execution_count": null,
      "outputs": []
    },
    {
      "cell_type": "code",
      "source": [
        "SM1 = np.zeros((M + 1, Ite))\n",
        "SM1[0] = S1\n",
        "for t in range(1, M + 1):\n",
        "    SM1[t] = SM1[t - 1] * (\n",
        "        np.exp((r - rj - 0.5 * sigma**2) * dt + sigma * np.sqrt(dt) * z1[t])\n",
        "        + (np.exp(mu + delta * z2[t]) - 1) * y[t]\n",
        "    )\n",
        "    SM1[t] = np.maximum(\n",
        "        SM1[t], 0.00001\n",
        "    )  # To ensure that the price never goes below zero!\n",
        "\n",
        "SM2 = np.zeros((M + 1, Ite))\n",
        "SM2[0] = S2\n",
        "for t in range(1, M + 1):\n",
        "    SM2[t] = SM2[t - 1] * (\n",
        "        np.exp((r - rj - 0.5 * sigma**2) * dt + sigma * np.sqrt(dt) * z1[t])\n",
        "        + (np.exp(mu + delta * z2[t]) - 1) * y[t]\n",
        "    )\n",
        "    SM2[t] = np.maximum(\n",
        "        SM2[t], 0.00001\n",
        "    )  # To ensure that the price never goes below zero!"
      ],
      "metadata": {
        "id": "8PoDKU2WKVYn"
      },
      "execution_count": null,
      "outputs": []
    },
    {
      "cell_type": "code",
      "source": [
        "deta_call = (merton_mc(SM1, 80, r, T, 0, type=\"C\") - merton_mc(SM2, 80, r, T, 0, type=\"C\"))/(2*epsilon)\n",
        "delta_put = (merton_mc(SM1, 80, r, T, 0, type=\"P\") - merton_mc(SM2, 80, r, T, 0, type=\"P\"))/(2*epsilon)\n",
        "print(\"EUR call delta:\", delta_call.round(2))\n",
        "print(\"EUR put delta:\", delta_put.round(2))"
      ],
      "metadata": {
        "colab": {
          "base_uri": "https://localhost:8080/",
          "height": 228
        },
        "id": "22Fyr0sj8-rE",
        "outputId": "447e2d05-597f-4960-f709-e58b9d2e111d"
      },
      "execution_count": null,
      "outputs": [
        {
          "output_type": "error",
          "ename": "NameError",
          "evalue": "ignored",
          "traceback": [
            "\u001b[0;31m---------------------------------------------------------------------------\u001b[0m",
            "\u001b[0;31mNameError\u001b[0m                                 Traceback (most recent call last)",
            "\u001b[0;32m<ipython-input-19-13027db1f4ef>\u001b[0m in \u001b[0;36m<cell line: 3>\u001b[0;34m()\u001b[0m\n\u001b[1;32m      1\u001b[0m \u001b[0mdeta_call\u001b[0m \u001b[0;34m=\u001b[0m \u001b[0;34m(\u001b[0m\u001b[0mmerton_mc\u001b[0m\u001b[0;34m(\u001b[0m\u001b[0mSM1\u001b[0m\u001b[0;34m,\u001b[0m \u001b[0;36m80\u001b[0m\u001b[0;34m,\u001b[0m \u001b[0mr\u001b[0m\u001b[0;34m,\u001b[0m \u001b[0mT\u001b[0m\u001b[0;34m,\u001b[0m \u001b[0;36m0\u001b[0m\u001b[0;34m,\u001b[0m \u001b[0mtype\u001b[0m\u001b[0;34m=\u001b[0m\u001b[0;34m\"C\"\u001b[0m\u001b[0;34m)\u001b[0m \u001b[0;34m-\u001b[0m \u001b[0mmerton_mc\u001b[0m\u001b[0;34m(\u001b[0m\u001b[0mSM2\u001b[0m\u001b[0;34m,\u001b[0m \u001b[0;36m80\u001b[0m\u001b[0;34m,\u001b[0m \u001b[0mr\u001b[0m\u001b[0;34m,\u001b[0m \u001b[0mT\u001b[0m\u001b[0;34m,\u001b[0m \u001b[0;36m0\u001b[0m\u001b[0;34m,\u001b[0m \u001b[0mtype\u001b[0m\u001b[0;34m=\u001b[0m\u001b[0;34m\"C\"\u001b[0m\u001b[0;34m)\u001b[0m\u001b[0;34m)\u001b[0m\u001b[0;34m/\u001b[0m\u001b[0;34m(\u001b[0m\u001b[0;36m2\u001b[0m\u001b[0;34m*\u001b[0m\u001b[0mepsilon\u001b[0m\u001b[0;34m)\u001b[0m\u001b[0;34m\u001b[0m\u001b[0;34m\u001b[0m\u001b[0m\n\u001b[1;32m      2\u001b[0m \u001b[0mdelta_put\u001b[0m \u001b[0;34m=\u001b[0m \u001b[0;34m(\u001b[0m\u001b[0mmerton_mc\u001b[0m\u001b[0;34m(\u001b[0m\u001b[0mSM1\u001b[0m\u001b[0;34m,\u001b[0m \u001b[0;36m80\u001b[0m\u001b[0;34m,\u001b[0m \u001b[0mr\u001b[0m\u001b[0;34m,\u001b[0m \u001b[0mT\u001b[0m\u001b[0;34m,\u001b[0m \u001b[0;36m0\u001b[0m\u001b[0;34m,\u001b[0m \u001b[0mtype\u001b[0m\u001b[0;34m=\u001b[0m\u001b[0;34m\"P\"\u001b[0m\u001b[0;34m)\u001b[0m \u001b[0;34m-\u001b[0m \u001b[0mmerton_mc\u001b[0m\u001b[0;34m(\u001b[0m\u001b[0mSM2\u001b[0m\u001b[0;34m,\u001b[0m \u001b[0;36m80\u001b[0m\u001b[0;34m,\u001b[0m \u001b[0mr\u001b[0m\u001b[0;34m,\u001b[0m \u001b[0mT\u001b[0m\u001b[0;34m,\u001b[0m \u001b[0;36m0\u001b[0m\u001b[0;34m,\u001b[0m \u001b[0mtype\u001b[0m\u001b[0;34m=\u001b[0m\u001b[0;34m\"P\"\u001b[0m\u001b[0;34m)\u001b[0m\u001b[0;34m)\u001b[0m\u001b[0;34m/\u001b[0m\u001b[0;34m(\u001b[0m\u001b[0;36m2\u001b[0m\u001b[0;34m*\u001b[0m\u001b[0mepsilon\u001b[0m\u001b[0;34m)\u001b[0m\u001b[0;34m\u001b[0m\u001b[0;34m\u001b[0m\u001b[0m\n\u001b[0;32m----> 3\u001b[0;31m \u001b[0mprint\u001b[0m\u001b[0;34m(\u001b[0m\u001b[0;34m\"EUR call delta:\"\u001b[0m\u001b[0;34m,\u001b[0m \u001b[0mdelta_call\u001b[0m\u001b[0;34m.\u001b[0m\u001b[0mround\u001b[0m\u001b[0;34m(\u001b[0m\u001b[0;36m2\u001b[0m\u001b[0;34m)\u001b[0m\u001b[0;34m)\u001b[0m\u001b[0;34m\u001b[0m\u001b[0;34m\u001b[0m\u001b[0m\n\u001b[0m\u001b[1;32m      4\u001b[0m \u001b[0mprint\u001b[0m\u001b[0;34m(\u001b[0m\u001b[0;34m\"EUR put delta:\"\u001b[0m\u001b[0;34m,\u001b[0m \u001b[0mdelta_put\u001b[0m\u001b[0;34m.\u001b[0m\u001b[0mround\u001b[0m\u001b[0;34m(\u001b[0m\u001b[0;36m2\u001b[0m\u001b[0;34m)\u001b[0m\u001b[0;34m)\u001b[0m\u001b[0;34m\u001b[0m\u001b[0;34m\u001b[0m\u001b[0m\n",
            "\u001b[0;31mNameError\u001b[0m: name 'delta_call' is not defined"
          ]
        }
      ]
    },
    {
      "cell_type": "markdown",
      "source": [
        "For delta, the explanation is as same as the previous group work, call option with a positive delta and put option with a negative delta."
      ],
      "metadata": {
        "id": "P2yyKC-4Ycho"
      }
    },
    {
      "cell_type": "code",
      "source": [
        "S_f = 81"
      ],
      "metadata": {
        "id": "vWPLs15SBg-l"
      },
      "execution_count": null,
      "outputs": []
    },
    {
      "cell_type": "code",
      "source": [
        "Sf1 = S_f + epsilon\n",
        "Sf2 = S_f - epsilon"
      ],
      "metadata": {
        "id": "tS_D0hGfK7yT"
      },
      "execution_count": null,
      "outputs": []
    },
    {
      "cell_type": "code",
      "source": [
        "SMf1 = np.zeros((M + 1, Ite))\n",
        "SMf1[0] = Sf1\n",
        "for t in range(1, M + 1):\n",
        "    SMf1[t] = SMf1[t - 1] * (\n",
        "        np.exp((r - rj - 0.5 * sigma**2) * dt + sigma * np.sqrt(dt) * z1[t])\n",
        "        + (np.exp(mu + delta * z2[t]) - 1) * y[t]\n",
        "    )\n",
        "    SMf1[t] = np.maximum(\n",
        "        SMf1[t], 0.00001\n",
        "    )  # To ensure that the price never goes below zero!\n",
        "\n",
        "SMf2 = np.zeros((M + 1, Ite))\n",
        "SMf2[0] = Sf2\n",
        "for t in range(1, M + 1):\n",
        "    SMf2[t] = SMf2[t - 1] * (\n",
        "        np.exp((r - rj - 0.5 * sigma**2) * dt + sigma * np.sqrt(dt) * z1[t])\n",
        "        + (np.exp(mu + delta * z2[t]) - 1) * y[t]\n",
        "    )\n",
        "    SMf2[t] = np.maximum(\n",
        "        SMf2[t], 0.00001\n",
        "    )  # To ensure that the price never goes below zero!"
      ],
      "metadata": {
        "id": "5kOx6H7JK-zH"
      },
      "execution_count": null,
      "outputs": []
    },
    {
      "cell_type": "code",
      "source": [
        "delta_call_sf = (merton_mc(SMf1, 80, r, T, 0, type=\"C\") - merton_mc(SMf2, 80, r, T, 0, type=\"C\"))/(2*epsilon)\n",
        "delta_put_sf = (merton_mc(SMf1, 80, r, T, 0, type=\"P\") - merton_mc(SMf2, 80, r, T, 0, type=\"P\"))/(2*epsilon)\n",
        "print(\"EUR call gamma:\", ((delta_call_sf - delta_call)/(S_f-S0)).round(2))\n",
        "print(\"EUR put gamma:\", ((delta_put_sf - delta_put)/(S_f-S0)).round(2))"
      ],
      "metadata": {
        "id": "7T0YmSxDLBzg"
      },
      "execution_count": null,
      "outputs": []
    },
    {
      "cell_type": "markdown",
      "source": [
        "Option gamma is a measure of how much the option delta is expected to change for a one-point change in the price of the underlying asset. It is the second derivative of the option price with respect to the price of the underlying asset. Both call and put options have positive gamma.\n",
        "Gamma decreases, approaching zero, as an option gets deeper in the money and delta approaches one. Gamma also approaches zero the deeper an option gets out of the money. Gamma is at its highest when the price is at the money.\n",
        "In this case, EUR call has delta=0.52 and gamma=0.18, which mean if the underlying price increase by 1, delta will increase by 0.18 and become 0.70. The same for EUR put.\n"
      ],
      "metadata": {
        "id": "kIHzB-6jYeh8"
      }
    },
    {
      "cell_type": "markdown",
      "source": [
        "## **(11) Model Validator**\n",
        "\n",
        "\n",
        "\n",
        "- Confirming whether the prices of the put and call from both the Heston Model and Merton Model does satisfy put-call parity.\n",
        "\n"
      ],
      "metadata": {
        "id": "J9v2yuQ0j121"
      }
    },
    {
      "cell_type": "code",
      "source": [
        "print('a. Put-Call parity for Heston Model method when rho is -0.30 is', 2.85 + np.round(80 * np.exp(-r * T),2) == 80 + 2.83)\n",
        "print('b. Put-Call parity for Heston Model method when rho is -0.70 is',round(2.08,2) + np.round(80 * np.exp(-r * T),2) == 80 + round(3.46,2))\n",
        "print('c. Put-Call parity for Merton method when jump intensity is 0.75 is ',round(8.91,2) + np.round(80 * np.exp(-r * T),2) == 80 + round(7.38,2))\n",
        "print('d. Put-Call parity for Merton method when jump intensity is 0.25 is',round(7,2) + np.round(80 * np.exp(-r * T),2) == 80 + round(5.84,2))"
      ],
      "metadata": {
        "id": "_Pj-QmfrkOR_"
      },
      "execution_count": null,
      "outputs": []
    },
    {
      "cell_type": "markdown",
      "source": [
        "**Put-Call Parity Checking for the Models and different Parameters**\n",
        "\n",
        "| Model Method       | Parameter Name   | Parameter Value | Put-Call Parity |\n",
        "|--------------------|------------------|-----------------|-----------------|\n",
        "| Heston Model       | rho              | -0.30           | False           |\n",
        "| Heston Model       | rho              | -0.70           | False           |\n",
        "| Merton Model       | jump intensity   | 0.75            | False           |\n",
        "| Merton Model       | jump intensity   | 0.25            | False           |"
      ],
      "metadata": {
        "id": "rI9FdPbIsDYy"
      }
    },
    {
      "cell_type": "markdown",
      "source": [
        "**Comment of Results:**\n",
        "\n",
        " Market frictions,Model assumptions or even parameter estimations that different from ideal conditions necessary to maintain a parity because the break of this possible reasons, the Put-Call parity was not maintained in both the Heston Model for rho values of -0.30 and -0.70, and the Merton method for jump intensities of 0.75 and 0.25."
      ],
      "metadata": {
        "id": "TbRgtlDFsWzb"
      }
    },
    {
      "cell_type": "markdown",
      "source": [
        "### **Using the Heston Model for 7 different strikes prices**"
      ],
      "metadata": {
        "id": "pxTgm1A73sSV"
      }
    },
    {
      "cell_type": "code",
      "source": [
        "def SDE_vol(v0, kappa, theta, sigma, T, M, Ite, rand, row, cho_matrix):\n",
        "    dt = T / M  # T = maturity, M = number of time steps\n",
        "    v = np.zeros((M + 1, Ite), dtype=float)\n",
        "    v[0] = v0\n",
        "    sdt = np.sqrt(dt)  # Sqrt of dt\n",
        "    for t in range(1, M + 1):\n",
        "        ran = np.dot(cho_matrix, rand[:, t])\n",
        "        v[t] = np.maximum(\n",
        "            0,\n",
        "            v[t - 1]\n",
        "            + kappa * (theta - v[t - 1]) * dt\n",
        "            + np.sqrt(v[t - 1]) * sigma * ran[row] * sdt,\n",
        "        )\n",
        "    return v\n",
        "\n",
        "def Heston_paths(S0, r, v, row, cho_matrix):\n",
        "    S = np.zeros((M + 1, Ite), dtype=float)\n",
        "    S[0] = S0\n",
        "    sdt = np.sqrt(dt)\n",
        "    for t in range(1, M + 1, 1):\n",
        "        ran = np.dot(cho_matrix, rand[:, t])\n",
        "        S[t] = S[t - 1] * np.exp((r - 0.5 * v[t]) * dt + np.sqrt(v[t]) * ran[row] * sdt)\n",
        "\n",
        "    return S\n",
        "\n",
        "def random_number_gen(M, Ite):\n",
        "    rand = np.random.standard_normal((2, M + 1, Ite))\n",
        "    return rand\n",
        "\n",
        "def heston_call_mc(S, K, r, T, t):\n",
        "    payoff = np.maximum(0, S[-1, :] - K)\n",
        "\n",
        "    average = np.mean(payoff)\n",
        "\n",
        "    return np.exp(-r * (T - t)) * average\n",
        "v0 = 0.032\n",
        "kappa_v = 1.85\n",
        "sigma_v = 0.35\n",
        "theta_v = 0.045\n",
        "rho = -0.30\n",
        "\n",
        "S0 = 100  # Current underlying asset price\n",
        "r = 0.055  # Risk-free rate\n",
        "M0 = 50  # Number of time steps in a year\n",
        "T = 3/12  # Number of years\n",
        "M = int(M0 * T)  # Total time steps\n",
        "Ite = 100000  # Number of simulations\n",
        "dt = T / M  # Length of time step\n",
        "\n",
        "# Generating random numbers from standard normal\n",
        "rand = random_number_gen(M, Ite)\n",
        "\n",
        "# Covariance Matrix\n",
        "covariance_matrix = np.zeros((2, 2), dtype=float)\n",
        "covariance_matrix[0] = [1.0, rho]\n",
        "covariance_matrix[1] = [rho, 1.0]\n",
        "cho_matrix = np.linalg.cholesky(covariance_matrix)\n",
        "\n",
        "# Volatility process paths\n",
        "V = SDE_vol(v0, kappa_v, theta_v, sigma_v, T, M, Ite, rand, 1, cho_matrix)\n",
        "\n",
        "# Underlying price process paths\n",
        "S = Heston_paths(S0, r, V, 0, cho_matrix)\n",
        "\n",
        "\n",
        "call_heston=[]\n",
        "arr = [0.85, 0.90, 0.95, 1, 1.05, 1.10,1.15]  # Define arr here\n",
        "for a in arr:\n",
        "  K=round(S0*a)\n",
        "  c=heston_call_mc(S, K, r, T, sigma_v)\n",
        "  call_heston.append(c)\n",
        "  print(\"Call value for Heston Model strike\",K,\" : \",round(c,2))"
      ],
      "metadata": {
        "id": "yq-sdzjT3rXT"
      },
      "execution_count": null,
      "outputs": []
    },
    {
      "cell_type": "markdown",
      "source": [
        "**Heston Model Call Values for 7 Different Strikes**\n",
        "\n",
        "| Strike | Call Value  |\n",
        "|--------|-------------|\n",
        "|  85    | 15.34       |\n",
        "|  90    | 10.77        |\n",
        "|  95    | 6.75        |\n",
        "| 100    | 3.63        |\n",
        "| 105    | 1.65        |\n",
        "| 110    | 0.65        |\n",
        "| 115    | 0.23        |"
      ],
      "metadata": {
        "id": "jAhqexGiBP7H"
      }
    },
    {
      "cell_type": "markdown",
      "source": [
        "**Comment**\n",
        "\n",
        "As the strike prices increase the call values decrease and this shows the negative correlation between the strike price and the call option value."
      ],
      "metadata": {
        "id": "bLWg6cIeBpUC"
      }
    },
    {
      "cell_type": "markdown",
      "source": [
        "### **Using the Merton Model for 7 different strikes**"
      ],
      "metadata": {
        "id": "DrtRuuoXB_S8"
      }
    },
    {
      "cell_type": "code",
      "source": [
        "import numpy as np\n",
        "from scipy.stats import norm\n",
        "\n",
        "def merton_jump_call(S, K, T, r, sigma, lambd, delta):\n",
        "    d1 = (np.log(S/K) + (r - lambd*delta + (sigma**2)/2)*T) / (sigma * np.sqrt(T))\n",
        "    d2 = d1 - sigma * np.sqrt(T)\n",
        "    N_d1 = norm.cdf(d1)\n",
        "    N_d2 = norm.cdf(d2)\n",
        "    C_BS = S * N_d1 - K * np.exp(-r*T) * N_d2\n",
        "    C_jump = C_BS + lambd * delta * (np.exp(r*T) - 1)\n",
        "    return C_jump\n",
        "\n",
        "\n",
        "arr=[0.85,0.9,0.95,1,1.05,1.1,1.15]\n",
        "lambd=0\n",
        "delta=0\n",
        "call_merton=[]\n",
        "S = 100  # current stock price\n",
        "T = 0.25  # time to expiry in years\n",
        "r = 0.055  # risk-free interest rate\n",
        "sigma = 0.35  # stock price volatility\n",
        "mu = -0.5  # stock price drift rate\n",
        "delta = 0.22  # jump size each\n",
        "lambd = 0.25  # jump intensity parameter\n",
        "for a in arr:\n",
        "  K=round(S*a)\n",
        "  c=merton_jump_call(S, K, T, r, sigma, lambd, delta)\n",
        "  call_merton.append(c)\n",
        "  print(\"Call value for Merton Model strike\",K,\" : \",round(c,2))"
      ],
      "metadata": {
        "id": "q7gjMosKB9RO"
      },
      "execution_count": null,
      "outputs": []
    },
    {
      "cell_type": "markdown",
      "source": [
        "\n",
        "**Merton Model Call Values for Seven Different Strikes**\n",
        "\n",
        "| Strike | Call Value |\n",
        "|--------|------------|\n",
        "| 85     | 17.46      |\n",
        "| 90     | 13.64      |\n",
        "| 95     | 10.34      |\n",
        "| 100    | 7.61       |\n",
        "| 105    | 5.43       |\n",
        "| 110    | 3.77       |\n",
        "| 115    | 2.55       |"
      ],
      "metadata": {
        "id": "YUfnqmJwCRn4"
      }
    },
    {
      "cell_type": "markdown",
      "source": [
        "**Comment**\n",
        "\n",
        " The Heston and the Merton Model all showed that the option prices decrease as the moneyness level changes from Deep ITM to Deep OTM."
      ],
      "metadata": {
        "id": "Y3icrBFdChN0"
      }
    },
    {
      "cell_type": "markdown",
      "source": [
        "# **Step 2**"
      ],
      "metadata": {
        "id": "i0VdmsYOyzV3"
      }
    },
    {
      "cell_type": "markdown",
      "source": [
        "Question 13 a"
      ],
      "metadata": {
        "id": "9NPdu_dUTSuD"
      }
    },
    {
      "cell_type": "code",
      "source": [
        "import matplotlib.pyplot as plt\n",
        "import numpy as np\n",
        "import scipy.stats as ss\n",
        "\n",
        "def SDE_vol(v0, kappa, theta, sigma, T, M, Ite, rand, row, cho_matrix):\n",
        "    dt = T / M  # T = maturity, M = number of time steps\n",
        "    v = np.zeros((M + 1, Ite), dtype=float)\n",
        "    v[0] = v0\n",
        "    sdt = np.sqrt(dt)  # Sqrt of dt\n",
        "    for t in range(1, M + 1):\n",
        "        ran = np.dot(cho_matrix, rand[:, t])\n",
        "        v[t] = np.maximum(\n",
        "            0,\n",
        "            v[t - 1]\n",
        "            + kappa * (theta - v[t - 1]) * dt\n",
        "            + np.sqrt(v[t - 1]) * sigma * ran[row] * sdt,\n",
        "        )\n",
        "    return v\n",
        "\n",
        "def Heston_paths(S0, r, v, row, cho_matrix):\n",
        "    S = np.zeros((M + 1, Ite), dtype=float)\n",
        "    S[0] = S0\n",
        "    sdt = np.sqrt(dt)\n",
        "    for t in range(1, M + 1, 1):\n",
        "        ran = np.dot(cho_matrix, rand[:, t])\n",
        "        S[t] = S[t - 1] * np.exp((r - 0.5 * v[t]) * dt + np.sqrt(v[t]) * ran[row] * sdt)\n",
        "\n",
        "    return S\n",
        "def random_number_gen(M, Ite):\n",
        "    rand = np.random.standard_normal((2, M + 1, Ite))\n",
        "    return rand\n",
        "\n",
        "v0 = 0.032\n",
        "kappa_v = 1.85\n",
        "sigma_v = 0.35\n",
        "theta_v = 0.045\n",
        "rho = -0.3\n",
        "\n",
        "S0 = 80  # Current underlying asset price\n",
        "r = 0.055  # Risk-free rate\n",
        "M0 = 50  # Number of time steps in a year\n",
        "T = 3/12  # Number of years\n",
        "M = int(M0 * T)  # Total time steps\n",
        "Ite = 1000000  # Number of simulations\n",
        "dt = T / M  # Length of time step\n",
        "\n",
        "\n",
        "# Generating random numbers from standard normal\n",
        "rand = random_number_gen(M, Ite)\n",
        "\n",
        "\n",
        "# Covariance Matrix\n",
        "covariance_matrix = np.zeros((2, 2), dtype=float)\n",
        "covariance_matrix[0] = [1.0, rho]\n",
        "covariance_matrix[1] = [rho, 1.0]\n",
        "cho_matrix = np.linalg.cholesky(covariance_matrix)\n",
        "# Volatility process paths\n",
        "V = SDE_vol(v0, kappa_v, theta_v, sigma_v, T, M, Ite, rand, 1, cho_matrix)\n",
        "\n",
        "# Underlying price process paths\n",
        "S = Heston_paths(S0, r, V, 0, cho_matrix)\n",
        "\n",
        "\n",
        "def heston_call_american(S, K, r, T, t):\n",
        "    payoff = np.maximum(0, S[-1, :] - K)\n",
        "    value = payoff.copy()\n",
        "\n",
        "    for t_step in range(M - 1, 0, -1):\n",
        "        # Discounted expected value of continuing the option\n",
        "        value = value * np.exp(-r * dt)\n",
        "        continuation_value = np.maximum(0, S[t_step, :] - K)\n",
        "        value = np.maximum(value, continuation_value)\n",
        "\n",
        "        # Early exercise check\n",
        "        payoff = np.maximum(0, S[t_step, :] - K)\n",
        "        value = np.maximum(value, payoff)\n",
        "\n",
        "    return np.mean(value)\n",
        "\n",
        "def heston_put_american(S, K, r, T, t):\n",
        "    payoff = np.maximum(0, K - S[-1, :])\n",
        "    value = payoff.copy()\n",
        "\n",
        "    for t_step in range(M - 1, 0, -1):\n",
        "        # Discounted expected value of continuing the option\n",
        "        value = value * np.exp(-r * dt)\n",
        "        continuation_value = np.maximum(0, K - S[t_step, :])\n",
        "        value = np.maximum(value, continuation_value)\n",
        "\n",
        "        # Early exercise check\n",
        "        payoff = np.maximum(0, K - S[t_step, :])\n",
        "        value = np.maximum(value, payoff)\n",
        "\n",
        "    return np.mean(value)\n",
        "\n",
        "print(\"American Call Price under Heston using a correlation value of -0.30: \", np.round(heston_call_american(S, 80, 0.055, 3/12, 0),2))\n",
        "print(\"American Put Price under Heston using a correlation value of -0.30: \", np.round(heston_put_american(S, 80, 0.055, 3/12, 0),2))\n"
      ],
      "metadata": {
        "id": "C39ZOHxqTSQP"
      },
      "execution_count": null,
      "outputs": []
    },
    {
      "cell_type": "markdown",
      "source": [
        "Question 13 b"
      ],
      "metadata": {
        "id": "NZURBYupjexB"
      }
    },
    {
      "cell_type": "code",
      "source": [
        "import matplotlib.pyplot as plt\n",
        "import numpy as np\n",
        "import scipy.stats as ss\n",
        "\n",
        "S0 = 80\n",
        "r = 0.055\n",
        "sigma = 0.35\n",
        "T = 3/12\n",
        "Ite = 500000  # Number of simulations (paths)\n",
        "M = 1  # Number of steps\n",
        "dt = T / M  # Time-step\n",
        "\n",
        "lamb = 0.75  # Lambda of the model\n",
        "mu = -0.6  # Mu\n",
        "delta = 0.22  # Delta\n",
        "\n",
        "SM = np.zeros((M + 1, Ite))\n",
        "SM[0] = S0\n",
        "\n",
        "# rj\n",
        "rj = lamb * (np.exp(mu + 0.5 * delta**2) - 1)\n",
        "\n",
        "# Random numbers\n",
        "z1 = np.random.standard_normal((M + 1, Ite))\n",
        "z2 = np.random.standard_normal((M + 1, Ite))\n",
        "y = np.random.poisson(lamb * dt, (M + 1, Ite))\n",
        "\n",
        "for t in range(1, M + 1):\n",
        "    SM[t] = SM[t - 1] * (\n",
        "        np.exp((r - rj - 0.5 * sigma**2) * dt + sigma * np.sqrt(dt) * z1[t])\n",
        "        + (np.exp(mu + delta * z2[t]) - 1) * y[t]\n",
        "    )\n",
        "    SM[t] = np.maximum(\n",
        "        SM[t], 0.00001\n",
        "    )  # To ensure that the price never goes below zero!\n",
        "\n",
        "def merton_american_mc(S, K, r, T, t, type=\"C\"):\n",
        "    if (type == \"C\"):\n",
        "        payoff = np.maximum(0, S[-1, :] - K)\n",
        "        value = payoff.copy()\n",
        "    else:\n",
        "        payoff = np.maximum(K - S[-1, :], 0)\n",
        "        value = payoff.copy()\n",
        "\n",
        "    for t_step in range(M - 1, 0, -1):\n",
        "        value = value * np.exp(-r * dt)\n",
        "        if (type == \"C\"):\n",
        "            continuation_value = np.maximum(0, S[t_step, :] - K)\n",
        "            value = np.maximum(value, continuation_value)\n",
        "            payoff = np.maximum(0, S[t_step, :] - K)\n",
        "        else:\n",
        "            continuation_value = np.maximum(0, K - S[t_step, :])\n",
        "            value = np.maximum(value, continuation_value)\n",
        "            payoff = np.maximum(K - S[t_step, :], 0)\n",
        "\n",
        "        value = np.maximum(value, payoff)\n",
        "\n",
        "    return np.mean(value)\n",
        "\n",
        "print(\"American Call Price under Merton: \", np.round(merton_american_mc(SM, 80, r, T, 0, type=\"C\"),2))\n",
        "print(\"American Put Price under Merton: \", np.round(merton_american_mc(SM, 80, r, T, 0, type=\"P\"),2))\n"
      ],
      "metadata": {
        "id": "dCYc0X8nTSMu"
      },
      "execution_count": null,
      "outputs": []
    },
    {
      "cell_type": "markdown",
      "source": [
        "We repeated the pricing for **American options** using the Heston Model and Merton Model. The key differences observed from the European option pricing:\n",
        "\n",
        "*   American options allow for early exercise, affecting their pricing compared to European options.\n",
        "\n",
        "*   Due to the potential for early exercise, American call options are more expensive than their European counterparts due to added flexibility.\n",
        "\n",
        "\n",
        "\n"
      ],
      "metadata": {
        "id": "7LEVPcnAWV9R"
      }
    },
    {
      "cell_type": "markdown",
      "source": [
        "Question 15"
      ],
      "metadata": {
        "id": "UgeN-BOMy2E2"
      }
    },
    {
      "cell_type": "code",
      "source": [
        "import matplotlib.pyplot as plt\n",
        "import numpy as np\n",
        "import scipy.stats as ss"
      ],
      "metadata": {
        "id": "SIPEUU3ty6gA"
      },
      "execution_count": null,
      "outputs": []
    },
    {
      "cell_type": "code",
      "source": [
        "np.random.seed(42)"
      ],
      "metadata": {
        "id": "uOrYhURK4y5E"
      },
      "execution_count": null,
      "outputs": []
    },
    {
      "cell_type": "code",
      "source": [
        "import numpy as np\n",
        "\n",
        "S0 = 80\n",
        "r = 0.055\n",
        "sigma = 0.35\n",
        "T = 3/12\n",
        "Ite = 10000000  # Number of simulations (paths)\n",
        "M = 1  # Number of steps\n",
        "dt = T / M  # Time-step\n",
        "\n",
        "lamb = 0.75  # Lambda of the model\n",
        "mu = -0.6  # Mu\n",
        "delta = 0.25  # Delta\n",
        "\n",
        "barrier = 65  # Barrier level for down-and-in option\n",
        "\n",
        "SM = np.zeros((M + 1, Ite))\n",
        "SM[0] = S0\n",
        "\n",
        "# rj\n",
        "rj = lamb * (np.exp(mu + 0.5 * delta**2) - 1)\n",
        "\n",
        "# Random numbers\n",
        "z1 = np.random.standard_normal((M + 1, Ite))\n",
        "z2 = np.random.standard_normal((M + 1, Ite))\n",
        "y = np.random.poisson(lamb * dt, (M + 1, Ite))\n",
        "\n",
        "for t in range(1, M + 1):\n",
        "    SM[t] = SM[t - 1] * (\n",
        "        np.exp((r - rj - 0.5 * sigma**2) * dt + sigma * np.sqrt(dt) * z1[t])\n",
        "        + (np.exp(mu + delta * z2[t]) - 1) * y[t]\n",
        "    )\n",
        "    SM[t] = np.maximum(\n",
        "        SM[t], 0.00001\n",
        "    )  # To ensure that the price never goes below zero!\n",
        "\n",
        "def merton_dai_option(S, K, r, T, t, barrier):\n",
        "    active_paths = np.any(S <= barrier, axis=0)\n",
        "    payoff = np.maximum(K - S[-1, :], 0)\n",
        "    payoff[~active_paths] = 0  # Set payoff to zero for paths that did not hit the barrier\n",
        "    average = np.mean(payoff)\n",
        "    return np.exp(-r * (T - t)) * average\n",
        "\n",
        "# Example usage:\n",
        "K = 65  # Strike price\n",
        "t = 0  # Option start time\n",
        "dai_price = merton_dai_option(SM, 65, r, T, t, 65)\n",
        "print(\"Down-and-In put Option Price:\", dai_price.round(2))\n"
      ],
      "metadata": {
        "id": "19yU75byIUK1"
      },
      "execution_count": null,
      "outputs": []
    },
    {
      "cell_type": "code",
      "source": [
        "print(\"European Put Price under Merton: \", merton_mc(SM, 65, r, T, 0, type=\"P\").round(2))"
      ],
      "metadata": {
        "id": "2WHGm4HgaGHq"
      },
      "execution_count": null,
      "outputs": []
    },
    {
      "cell_type": "markdown",
      "source": [
        "In this particular case, both have nearly the same price. In theory, DAI put option price is lower than the normal put option. Since we use the one step in this case, this makes the DAI put option nearly the same as the normal put option when we only compare the price with the barrier (also strike) at the expiration. If using more steps in stock price simulation, the result is different."
      ],
      "metadata": {
        "id": "_39hX5j3Yj7a"
      }
    }
  ]
}